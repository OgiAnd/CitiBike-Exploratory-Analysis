{
 "cells": [
  {
   "cell_type": "markdown",
   "metadata": {},
   "source": [
    "### CitiBike Ridership Investigation\n",
    "#### Period: Apr - Jun 2018\n",
    "#### The data for this analysis was obtained from the CitiBike System Data portal"
   ]
  },
  {
   "cell_type": "markdown",
   "metadata": {},
   "source": [
    "#### Ho: 24-hour citibike pass purchases are equal or significantly less on the weekend than on weekdays (p=0.05).\n",
    "#### Ha: There are significantly more 24-hour citibike passes sold on the weekend than on weekdays (p=0.05)."
   ]
  },
  {
   "cell_type": "code",
   "execution_count": 1,
   "metadata": {},
   "outputs": [],
   "source": [
    "import numpy as np\n",
    "import pandas as pd\n",
    "import matplotlib.pyplot as plt\n",
    "plt.style.use('ggplot')\n",
    "import scipy.stats as stats\n",
    "from datetime import datetime\n",
    "\n",
    "%matplotlib inline"
   ]
  },
  {
   "cell_type": "code",
   "execution_count": 2,
   "metadata": {},
   "outputs": [],
   "source": [
    "df = pd.read_csv('CitiBike_Q2_2018.csv')"
   ]
  },
  {
   "cell_type": "code",
   "execution_count": 3,
   "metadata": {},
   "outputs": [
    {
     "data": {
      "text/html": [
       "<div>\n",
       "<style scoped>\n",
       "    .dataframe tbody tr th:only-of-type {\n",
       "        vertical-align: middle;\n",
       "    }\n",
       "\n",
       "    .dataframe tbody tr th {\n",
       "        vertical-align: top;\n",
       "    }\n",
       "\n",
       "    .dataframe thead th {\n",
       "        text-align: right;\n",
       "    }\n",
       "</style>\n",
       "<table border=\"1\" class=\"dataframe\">\n",
       "  <thead>\n",
       "    <tr style=\"text-align: right;\">\n",
       "      <th></th>\n",
       "      <th>Date</th>\n",
       "      <th>Trips over the past 24-hours (midnight to 11:59pm)</th>\n",
       "      <th>Miles traveled today (midnight to 11:59 pm)</th>\n",
       "      <th>Total Annual Members (All Time)</th>\n",
       "      <th>24-Hour Passes Purchased (midnight to 11:59 pm)</th>\n",
       "      <th>3-Day Passes Purchased (midnight to 11:59 pm)</th>\n",
       "    </tr>\n",
       "  </thead>\n",
       "  <tbody>\n",
       "    <tr>\n",
       "      <th>0</th>\n",
       "      <td>4/1/18</td>\n",
       "      <td>33148</td>\n",
       "      <td>94040</td>\n",
       "      <td>257811</td>\n",
       "      <td>2363</td>\n",
       "      <td>264</td>\n",
       "    </tr>\n",
       "    <tr>\n",
       "      <th>1</th>\n",
       "      <td>4/2/18</td>\n",
       "      <td>22062</td>\n",
       "      <td>50418</td>\n",
       "      <td>257889</td>\n",
       "      <td>297</td>\n",
       "      <td>20</td>\n",
       "    </tr>\n",
       "    <tr>\n",
       "      <th>2</th>\n",
       "      <td>4/3/18</td>\n",
       "      <td>25883</td>\n",
       "      <td>59477</td>\n",
       "      <td>257942</td>\n",
       "      <td>189</td>\n",
       "      <td>21</td>\n",
       "    </tr>\n",
       "    <tr>\n",
       "      <th>3</th>\n",
       "      <td>4/4/18</td>\n",
       "      <td>36755</td>\n",
       "      <td>80049</td>\n",
       "      <td>258025</td>\n",
       "      <td>611</td>\n",
       "      <td>48</td>\n",
       "    </tr>\n",
       "    <tr>\n",
       "      <th>4</th>\n",
       "      <td>4/5/18</td>\n",
       "      <td>39814</td>\n",
       "      <td>87382</td>\n",
       "      <td>258086</td>\n",
       "      <td>972</td>\n",
       "      <td>112</td>\n",
       "    </tr>\n",
       "  </tbody>\n",
       "</table>\n",
       "</div>"
      ],
      "text/plain": [
       "     Date  Trips over the past 24-hours (midnight to 11:59pm)  \\\n",
       "0  4/1/18                                              33148    \n",
       "1  4/2/18                                              22062    \n",
       "2  4/3/18                                              25883    \n",
       "3  4/4/18                                              36755    \n",
       "4  4/5/18                                              39814    \n",
       "\n",
       "   Miles traveled today (midnight to 11:59 pm)  \\\n",
       "0                                        94040   \n",
       "1                                        50418   \n",
       "2                                        59477   \n",
       "3                                        80049   \n",
       "4                                        87382   \n",
       "\n",
       "   Total Annual Members (All Time)  \\\n",
       "0                           257811   \n",
       "1                           257889   \n",
       "2                           257942   \n",
       "3                           258025   \n",
       "4                           258086   \n",
       "\n",
       "   24-Hour Passes Purchased (midnight to 11:59 pm)  \\\n",
       "0                                             2363   \n",
       "1                                              297   \n",
       "2                                              189   \n",
       "3                                              611   \n",
       "4                                              972   \n",
       "\n",
       "   3-Day Passes Purchased (midnight to 11:59 pm)  \n",
       "0                                            264  \n",
       "1                                             20  \n",
       "2                                             21  \n",
       "3                                             48  \n",
       "4                                            112  "
      ]
     },
     "execution_count": 3,
     "metadata": {},
     "output_type": "execute_result"
    }
   ],
   "source": [
    "df.head()"
   ]
  },
  {
   "cell_type": "code",
   "execution_count": 4,
   "metadata": {},
   "outputs": [
    {
     "data": {
      "text/html": [
       "<div>\n",
       "<style scoped>\n",
       "    .dataframe tbody tr th:only-of-type {\n",
       "        vertical-align: middle;\n",
       "    }\n",
       "\n",
       "    .dataframe tbody tr th {\n",
       "        vertical-align: top;\n",
       "    }\n",
       "\n",
       "    .dataframe thead th {\n",
       "        text-align: right;\n",
       "    }\n",
       "</style>\n",
       "<table border=\"1\" class=\"dataframe\">\n",
       "  <thead>\n",
       "    <tr style=\"text-align: right;\">\n",
       "      <th></th>\n",
       "      <th>Date</th>\n",
       "      <th>Trips over the past 24-hours (midnight to 11:59pm)</th>\n",
       "      <th>Miles traveled today (midnight to 11:59 pm)</th>\n",
       "      <th>Total Annual Members (All Time)</th>\n",
       "      <th>24-Hour Passes Purchased (midnight to 11:59 pm)</th>\n",
       "      <th>3-Day Passes Purchased (midnight to 11:59 pm)</th>\n",
       "    </tr>\n",
       "  </thead>\n",
       "  <tbody>\n",
       "    <tr>\n",
       "      <th>86</th>\n",
       "      <td>6/26/18</td>\n",
       "      <td>80643</td>\n",
       "      <td>171973</td>\n",
       "      <td>274006</td>\n",
       "      <td>3442</td>\n",
       "      <td>254</td>\n",
       "    </tr>\n",
       "    <tr>\n",
       "      <th>87</th>\n",
       "      <td>6/27/18</td>\n",
       "      <td>67647</td>\n",
       "      <td>140557</td>\n",
       "      <td>274165</td>\n",
       "      <td>2457</td>\n",
       "      <td>183</td>\n",
       "    </tr>\n",
       "    <tr>\n",
       "      <th>88</th>\n",
       "      <td>6/28/18</td>\n",
       "      <td>50431</td>\n",
       "      <td>104860</td>\n",
       "      <td>274290</td>\n",
       "      <td>1967</td>\n",
       "      <td>154</td>\n",
       "    </tr>\n",
       "    <tr>\n",
       "      <th>89</th>\n",
       "      <td>6/29/18</td>\n",
       "      <td>69856</td>\n",
       "      <td>151785</td>\n",
       "      <td>274467</td>\n",
       "      <td>3940</td>\n",
       "      <td>326</td>\n",
       "    </tr>\n",
       "    <tr>\n",
       "      <th>90</th>\n",
       "      <td>6/30/18</td>\n",
       "      <td>54713</td>\n",
       "      <td>134347</td>\n",
       "      <td>274628</td>\n",
       "      <td>5425</td>\n",
       "      <td>360</td>\n",
       "    </tr>\n",
       "  </tbody>\n",
       "</table>\n",
       "</div>"
      ],
      "text/plain": [
       "       Date  Trips over the past 24-hours (midnight to 11:59pm)  \\\n",
       "86  6/26/18                                              80643    \n",
       "87  6/27/18                                              67647    \n",
       "88  6/28/18                                              50431    \n",
       "89  6/29/18                                              69856    \n",
       "90  6/30/18                                              54713    \n",
       "\n",
       "    Miles traveled today (midnight to 11:59 pm)  \\\n",
       "86                                       171973   \n",
       "87                                       140557   \n",
       "88                                       104860   \n",
       "89                                       151785   \n",
       "90                                       134347   \n",
       "\n",
       "    Total Annual Members (All Time)  \\\n",
       "86                           274006   \n",
       "87                           274165   \n",
       "88                           274290   \n",
       "89                           274467   \n",
       "90                           274628   \n",
       "\n",
       "    24-Hour Passes Purchased (midnight to 11:59 pm)  \\\n",
       "86                                             3442   \n",
       "87                                             2457   \n",
       "88                                             1967   \n",
       "89                                             3940   \n",
       "90                                             5425   \n",
       "\n",
       "    3-Day Passes Purchased (midnight to 11:59 pm)  \n",
       "86                                            254  \n",
       "87                                            183  \n",
       "88                                            154  \n",
       "89                                            326  \n",
       "90                                            360  "
      ]
     },
     "execution_count": 4,
     "metadata": {},
     "output_type": "execute_result"
    }
   ],
   "source": [
    "df.tail()"
   ]
  },
  {
   "cell_type": "code",
   "execution_count": 5,
   "metadata": {},
   "outputs": [
    {
     "data": {
      "text/plain": [
       "(91, 6)"
      ]
     },
     "execution_count": 5,
     "metadata": {},
     "output_type": "execute_result"
    }
   ],
   "source": [
    "df.shape"
   ]
  },
  {
   "cell_type": "code",
   "execution_count": 6,
   "metadata": {},
   "outputs": [
    {
     "data": {
      "text/plain": [
       "['Date',\n",
       " 'Trips over the past 24-hours (midnight to 11:59pm)',\n",
       " 'Miles traveled today (midnight to 11:59 pm)',\n",
       " 'Total Annual Members (All Time)',\n",
       " '24-Hour Passes Purchased (midnight to 11:59 pm)',\n",
       " '3-Day Passes Purchased (midnight to 11:59 pm)']"
      ]
     },
     "execution_count": 6,
     "metadata": {},
     "output_type": "execute_result"
    }
   ],
   "source": [
    "list(df.columns)"
   ]
  },
  {
   "cell_type": "code",
   "execution_count": 7,
   "metadata": {},
   "outputs": [
    {
     "data": {
      "text/plain": [
       "Date                                                  object\n",
       "Trips over the past 24-hours (midnight to 11:59pm)     int64\n",
       "Miles traveled today (midnight to 11:59 pm)            int64\n",
       "Total Annual Members (All Time)                        int64\n",
       "24-Hour Passes Purchased (midnight to 11:59 pm)        int64\n",
       "3-Day Passes Purchased (midnight to 11:59 pm)          int64\n",
       "dtype: object"
      ]
     },
     "execution_count": 7,
     "metadata": {},
     "output_type": "execute_result"
    }
   ],
   "source": [
    "df.dtypes"
   ]
  },
  {
   "cell_type": "code",
   "execution_count": 8,
   "metadata": {},
   "outputs": [],
   "source": [
    "df['Date'] = pd.to_datetime(df['Date'])"
   ]
  },
  {
   "cell_type": "code",
   "execution_count": 9,
   "metadata": {},
   "outputs": [
    {
     "data": {
      "text/html": [
       "<div>\n",
       "<style scoped>\n",
       "    .dataframe tbody tr th:only-of-type {\n",
       "        vertical-align: middle;\n",
       "    }\n",
       "\n",
       "    .dataframe tbody tr th {\n",
       "        vertical-align: top;\n",
       "    }\n",
       "\n",
       "    .dataframe thead th {\n",
       "        text-align: right;\n",
       "    }\n",
       "</style>\n",
       "<table border=\"1\" class=\"dataframe\">\n",
       "  <thead>\n",
       "    <tr style=\"text-align: right;\">\n",
       "      <th></th>\n",
       "      <th>Date</th>\n",
       "      <th>Trips over the past 24-hours (midnight to 11:59pm)</th>\n",
       "      <th>Miles traveled today (midnight to 11:59 pm)</th>\n",
       "      <th>Total Annual Members (All Time)</th>\n",
       "      <th>24-Hour Passes Purchased (midnight to 11:59 pm)</th>\n",
       "      <th>3-Day Passes Purchased (midnight to 11:59 pm)</th>\n",
       "    </tr>\n",
       "  </thead>\n",
       "  <tbody>\n",
       "    <tr>\n",
       "      <th>0</th>\n",
       "      <td>2018-04-01</td>\n",
       "      <td>33148</td>\n",
       "      <td>94040</td>\n",
       "      <td>257811</td>\n",
       "      <td>2363</td>\n",
       "      <td>264</td>\n",
       "    </tr>\n",
       "    <tr>\n",
       "      <th>1</th>\n",
       "      <td>2018-04-02</td>\n",
       "      <td>22062</td>\n",
       "      <td>50418</td>\n",
       "      <td>257889</td>\n",
       "      <td>297</td>\n",
       "      <td>20</td>\n",
       "    </tr>\n",
       "    <tr>\n",
       "      <th>2</th>\n",
       "      <td>2018-04-03</td>\n",
       "      <td>25883</td>\n",
       "      <td>59477</td>\n",
       "      <td>257942</td>\n",
       "      <td>189</td>\n",
       "      <td>21</td>\n",
       "    </tr>\n",
       "    <tr>\n",
       "      <th>3</th>\n",
       "      <td>2018-04-04</td>\n",
       "      <td>36755</td>\n",
       "      <td>80049</td>\n",
       "      <td>258025</td>\n",
       "      <td>611</td>\n",
       "      <td>48</td>\n",
       "    </tr>\n",
       "    <tr>\n",
       "      <th>4</th>\n",
       "      <td>2018-04-05</td>\n",
       "      <td>39814</td>\n",
       "      <td>87382</td>\n",
       "      <td>258086</td>\n",
       "      <td>972</td>\n",
       "      <td>112</td>\n",
       "    </tr>\n",
       "  </tbody>\n",
       "</table>\n",
       "</div>"
      ],
      "text/plain": [
       "        Date  Trips over the past 24-hours (midnight to 11:59pm)  \\\n",
       "0 2018-04-01                                              33148    \n",
       "1 2018-04-02                                              22062    \n",
       "2 2018-04-03                                              25883    \n",
       "3 2018-04-04                                              36755    \n",
       "4 2018-04-05                                              39814    \n",
       "\n",
       "   Miles traveled today (midnight to 11:59 pm)  \\\n",
       "0                                        94040   \n",
       "1                                        50418   \n",
       "2                                        59477   \n",
       "3                                        80049   \n",
       "4                                        87382   \n",
       "\n",
       "   Total Annual Members (All Time)  \\\n",
       "0                           257811   \n",
       "1                           257889   \n",
       "2                           257942   \n",
       "3                           258025   \n",
       "4                           258086   \n",
       "\n",
       "   24-Hour Passes Purchased (midnight to 11:59 pm)  \\\n",
       "0                                             2363   \n",
       "1                                              297   \n",
       "2                                              189   \n",
       "3                                              611   \n",
       "4                                              972   \n",
       "\n",
       "   3-Day Passes Purchased (midnight to 11:59 pm)  \n",
       "0                                            264  \n",
       "1                                             20  \n",
       "2                                             21  \n",
       "3                                             48  \n",
       "4                                            112  "
      ]
     },
     "execution_count": 9,
     "metadata": {},
     "output_type": "execute_result"
    }
   ],
   "source": [
    "df.head()"
   ]
  },
  {
   "cell_type": "code",
   "execution_count": 10,
   "metadata": {},
   "outputs": [
    {
     "data": {
      "text/plain": [
       "pandas._libs.tslibs.timestamps.Timestamp"
      ]
     },
     "execution_count": 10,
     "metadata": {},
     "output_type": "execute_result"
    }
   ],
   "source": [
    "type(df['Date'].iloc[0])"
   ]
  },
  {
   "cell_type": "code",
   "execution_count": 11,
   "metadata": {},
   "outputs": [],
   "source": [
    "df['Week_Day'] = df.apply(lambda x: x['Date'].weekday(), axis=1)"
   ]
  },
  {
   "cell_type": "code",
   "execution_count": 12,
   "metadata": {},
   "outputs": [
    {
     "data": {
      "text/html": [
       "<div>\n",
       "<style scoped>\n",
       "    .dataframe tbody tr th:only-of-type {\n",
       "        vertical-align: middle;\n",
       "    }\n",
       "\n",
       "    .dataframe tbody tr th {\n",
       "        vertical-align: top;\n",
       "    }\n",
       "\n",
       "    .dataframe thead th {\n",
       "        text-align: right;\n",
       "    }\n",
       "</style>\n",
       "<table border=\"1\" class=\"dataframe\">\n",
       "  <thead>\n",
       "    <tr style=\"text-align: right;\">\n",
       "      <th></th>\n",
       "      <th>Date</th>\n",
       "      <th>Trips over the past 24-hours (midnight to 11:59pm)</th>\n",
       "      <th>Miles traveled today (midnight to 11:59 pm)</th>\n",
       "      <th>Total Annual Members (All Time)</th>\n",
       "      <th>24-Hour Passes Purchased (midnight to 11:59 pm)</th>\n",
       "      <th>3-Day Passes Purchased (midnight to 11:59 pm)</th>\n",
       "      <th>Week_Day</th>\n",
       "    </tr>\n",
       "  </thead>\n",
       "  <tbody>\n",
       "    <tr>\n",
       "      <th>0</th>\n",
       "      <td>2018-04-01</td>\n",
       "      <td>33148</td>\n",
       "      <td>94040</td>\n",
       "      <td>257811</td>\n",
       "      <td>2363</td>\n",
       "      <td>264</td>\n",
       "      <td>6</td>\n",
       "    </tr>\n",
       "    <tr>\n",
       "      <th>1</th>\n",
       "      <td>2018-04-02</td>\n",
       "      <td>22062</td>\n",
       "      <td>50418</td>\n",
       "      <td>257889</td>\n",
       "      <td>297</td>\n",
       "      <td>20</td>\n",
       "      <td>0</td>\n",
       "    </tr>\n",
       "    <tr>\n",
       "      <th>2</th>\n",
       "      <td>2018-04-03</td>\n",
       "      <td>25883</td>\n",
       "      <td>59477</td>\n",
       "      <td>257942</td>\n",
       "      <td>189</td>\n",
       "      <td>21</td>\n",
       "      <td>1</td>\n",
       "    </tr>\n",
       "    <tr>\n",
       "      <th>3</th>\n",
       "      <td>2018-04-04</td>\n",
       "      <td>36755</td>\n",
       "      <td>80049</td>\n",
       "      <td>258025</td>\n",
       "      <td>611</td>\n",
       "      <td>48</td>\n",
       "      <td>2</td>\n",
       "    </tr>\n",
       "    <tr>\n",
       "      <th>4</th>\n",
       "      <td>2018-04-05</td>\n",
       "      <td>39814</td>\n",
       "      <td>87382</td>\n",
       "      <td>258086</td>\n",
       "      <td>972</td>\n",
       "      <td>112</td>\n",
       "      <td>3</td>\n",
       "    </tr>\n",
       "  </tbody>\n",
       "</table>\n",
       "</div>"
      ],
      "text/plain": [
       "        Date  Trips over the past 24-hours (midnight to 11:59pm)  \\\n",
       "0 2018-04-01                                              33148    \n",
       "1 2018-04-02                                              22062    \n",
       "2 2018-04-03                                              25883    \n",
       "3 2018-04-04                                              36755    \n",
       "4 2018-04-05                                              39814    \n",
       "\n",
       "   Miles traveled today (midnight to 11:59 pm)  \\\n",
       "0                                        94040   \n",
       "1                                        50418   \n",
       "2                                        59477   \n",
       "3                                        80049   \n",
       "4                                        87382   \n",
       "\n",
       "   Total Annual Members (All Time)  \\\n",
       "0                           257811   \n",
       "1                           257889   \n",
       "2                           257942   \n",
       "3                           258025   \n",
       "4                           258086   \n",
       "\n",
       "   24-Hour Passes Purchased (midnight to 11:59 pm)  \\\n",
       "0                                             2363   \n",
       "1                                              297   \n",
       "2                                              189   \n",
       "3                                              611   \n",
       "4                                              972   \n",
       "\n",
       "   3-Day Passes Purchased (midnight to 11:59 pm)  Week_Day  \n",
       "0                                            264         6  \n",
       "1                                             20         0  \n",
       "2                                             21         1  \n",
       "3                                             48         2  \n",
       "4                                            112         3  "
      ]
     },
     "execution_count": 12,
     "metadata": {},
     "output_type": "execute_result"
    }
   ],
   "source": [
    "df.head()"
   ]
  },
  {
   "cell_type": "code",
   "execution_count": 13,
   "metadata": {},
   "outputs": [],
   "source": [
    "df2 = df.copy()"
   ]
  },
  {
   "cell_type": "code",
   "execution_count": 14,
   "metadata": {},
   "outputs": [
    {
     "data": {
      "text/plain": [
       "dict_items([(0, 'Mon'), (1, 'Tue'), (2, 'Wed'), (3, 'Thu'), (4, 'Fri'), (5, 'Sat'), (6, 'Sun')])"
      ]
     },
     "execution_count": 14,
     "metadata": {},
     "output_type": "execute_result"
    }
   ],
   "source": [
    "dmap = {0:'Mon',1:'Tue',2:'Wed',3:'Thu',4:'Fri',5:'Sat',6:'Sun'}\n",
    "dmap.items()"
   ]
  },
  {
   "cell_type": "code",
   "execution_count": 15,
   "metadata": {},
   "outputs": [],
   "source": [
    "df2['Week_Day'] = list(map(dmap.get, df2['Week_Day']))"
   ]
  },
  {
   "cell_type": "code",
   "execution_count": 16,
   "metadata": {},
   "outputs": [
    {
     "data": {
      "text/html": [
       "<div>\n",
       "<style scoped>\n",
       "    .dataframe tbody tr th:only-of-type {\n",
       "        vertical-align: middle;\n",
       "    }\n",
       "\n",
       "    .dataframe tbody tr th {\n",
       "        vertical-align: top;\n",
       "    }\n",
       "\n",
       "    .dataframe thead th {\n",
       "        text-align: right;\n",
       "    }\n",
       "</style>\n",
       "<table border=\"1\" class=\"dataframe\">\n",
       "  <thead>\n",
       "    <tr style=\"text-align: right;\">\n",
       "      <th></th>\n",
       "      <th>Date</th>\n",
       "      <th>Trips over the past 24-hours (midnight to 11:59pm)</th>\n",
       "      <th>Miles traveled today (midnight to 11:59 pm)</th>\n",
       "      <th>Total Annual Members (All Time)</th>\n",
       "      <th>24-Hour Passes Purchased (midnight to 11:59 pm)</th>\n",
       "      <th>3-Day Passes Purchased (midnight to 11:59 pm)</th>\n",
       "      <th>Week_Day</th>\n",
       "    </tr>\n",
       "  </thead>\n",
       "  <tbody>\n",
       "    <tr>\n",
       "      <th>0</th>\n",
       "      <td>2018-04-01</td>\n",
       "      <td>33148</td>\n",
       "      <td>94040</td>\n",
       "      <td>257811</td>\n",
       "      <td>2363</td>\n",
       "      <td>264</td>\n",
       "      <td>Sun</td>\n",
       "    </tr>\n",
       "    <tr>\n",
       "      <th>1</th>\n",
       "      <td>2018-04-02</td>\n",
       "      <td>22062</td>\n",
       "      <td>50418</td>\n",
       "      <td>257889</td>\n",
       "      <td>297</td>\n",
       "      <td>20</td>\n",
       "      <td>Mon</td>\n",
       "    </tr>\n",
       "    <tr>\n",
       "      <th>2</th>\n",
       "      <td>2018-04-03</td>\n",
       "      <td>25883</td>\n",
       "      <td>59477</td>\n",
       "      <td>257942</td>\n",
       "      <td>189</td>\n",
       "      <td>21</td>\n",
       "      <td>Tue</td>\n",
       "    </tr>\n",
       "    <tr>\n",
       "      <th>3</th>\n",
       "      <td>2018-04-04</td>\n",
       "      <td>36755</td>\n",
       "      <td>80049</td>\n",
       "      <td>258025</td>\n",
       "      <td>611</td>\n",
       "      <td>48</td>\n",
       "      <td>Wed</td>\n",
       "    </tr>\n",
       "    <tr>\n",
       "      <th>4</th>\n",
       "      <td>2018-04-05</td>\n",
       "      <td>39814</td>\n",
       "      <td>87382</td>\n",
       "      <td>258086</td>\n",
       "      <td>972</td>\n",
       "      <td>112</td>\n",
       "      <td>Thu</td>\n",
       "    </tr>\n",
       "  </tbody>\n",
       "</table>\n",
       "</div>"
      ],
      "text/plain": [
       "        Date  Trips over the past 24-hours (midnight to 11:59pm)  \\\n",
       "0 2018-04-01                                              33148    \n",
       "1 2018-04-02                                              22062    \n",
       "2 2018-04-03                                              25883    \n",
       "3 2018-04-04                                              36755    \n",
       "4 2018-04-05                                              39814    \n",
       "\n",
       "   Miles traveled today (midnight to 11:59 pm)  \\\n",
       "0                                        94040   \n",
       "1                                        50418   \n",
       "2                                        59477   \n",
       "3                                        80049   \n",
       "4                                        87382   \n",
       "\n",
       "   Total Annual Members (All Time)  \\\n",
       "0                           257811   \n",
       "1                           257889   \n",
       "2                           257942   \n",
       "3                           258025   \n",
       "4                           258086   \n",
       "\n",
       "   24-Hour Passes Purchased (midnight to 11:59 pm)  \\\n",
       "0                                             2363   \n",
       "1                                              297   \n",
       "2                                              189   \n",
       "3                                              611   \n",
       "4                                              972   \n",
       "\n",
       "   3-Day Passes Purchased (midnight to 11:59 pm) Week_Day  \n",
       "0                                            264      Sun  \n",
       "1                                             20      Mon  \n",
       "2                                             21      Tue  \n",
       "3                                             48      Wed  \n",
       "4                                            112      Thu  "
      ]
     },
     "execution_count": 16,
     "metadata": {},
     "output_type": "execute_result"
    }
   ],
   "source": [
    "df2.head()"
   ]
  },
  {
   "cell_type": "code",
   "execution_count": 17,
   "metadata": {},
   "outputs": [
    {
     "data": {
      "text/plain": [
       "Tue    13\n",
       "Thu    13\n",
       "Fri    13\n",
       "Sun    13\n",
       "Sat    13\n",
       "Wed    13\n",
       "Mon    13\n",
       "Name: Week_Day, dtype: int64"
      ]
     },
     "execution_count": 17,
     "metadata": {},
     "output_type": "execute_result"
    }
   ],
   "source": [
    "df2['Week_Day'].value_counts()"
   ]
  },
  {
   "cell_type": "code",
   "execution_count": 18,
   "metadata": {},
   "outputs": [],
   "source": [
    "df_updated = df2[['Date', '24-Hour Passes Purchased (midnight to 11:59 pm)', 'Week_Day']]"
   ]
  },
  {
   "cell_type": "code",
   "execution_count": 19,
   "metadata": {},
   "outputs": [
    {
     "data": {
      "text/html": [
       "<div>\n",
       "<style scoped>\n",
       "    .dataframe tbody tr th:only-of-type {\n",
       "        vertical-align: middle;\n",
       "    }\n",
       "\n",
       "    .dataframe tbody tr th {\n",
       "        vertical-align: top;\n",
       "    }\n",
       "\n",
       "    .dataframe thead th {\n",
       "        text-align: right;\n",
       "    }\n",
       "</style>\n",
       "<table border=\"1\" class=\"dataframe\">\n",
       "  <thead>\n",
       "    <tr style=\"text-align: right;\">\n",
       "      <th></th>\n",
       "      <th>Date</th>\n",
       "      <th>24-Hour Passes Purchased (midnight to 11:59 pm)</th>\n",
       "      <th>Week_Day</th>\n",
       "    </tr>\n",
       "  </thead>\n",
       "  <tbody>\n",
       "    <tr>\n",
       "      <th>0</th>\n",
       "      <td>2018-04-01</td>\n",
       "      <td>2363</td>\n",
       "      <td>Sun</td>\n",
       "    </tr>\n",
       "    <tr>\n",
       "      <th>1</th>\n",
       "      <td>2018-04-02</td>\n",
       "      <td>297</td>\n",
       "      <td>Mon</td>\n",
       "    </tr>\n",
       "    <tr>\n",
       "      <th>2</th>\n",
       "      <td>2018-04-03</td>\n",
       "      <td>189</td>\n",
       "      <td>Tue</td>\n",
       "    </tr>\n",
       "    <tr>\n",
       "      <th>3</th>\n",
       "      <td>2018-04-04</td>\n",
       "      <td>611</td>\n",
       "      <td>Wed</td>\n",
       "    </tr>\n",
       "    <tr>\n",
       "      <th>4</th>\n",
       "      <td>2018-04-05</td>\n",
       "      <td>972</td>\n",
       "      <td>Thu</td>\n",
       "    </tr>\n",
       "  </tbody>\n",
       "</table>\n",
       "</div>"
      ],
      "text/plain": [
       "        Date  24-Hour Passes Purchased (midnight to 11:59 pm) Week_Day\n",
       "0 2018-04-01                                             2363      Sun\n",
       "1 2018-04-02                                              297      Mon\n",
       "2 2018-04-03                                              189      Tue\n",
       "3 2018-04-04                                              611      Wed\n",
       "4 2018-04-05                                              972      Thu"
      ]
     },
     "execution_count": 19,
     "metadata": {},
     "output_type": "execute_result"
    }
   ],
   "source": [
    "df_updated.head()"
   ]
  },
  {
   "cell_type": "code",
   "execution_count": 20,
   "metadata": {},
   "outputs": [],
   "source": [
    "df_updated.set_index('Date', inplace=True)"
   ]
  },
  {
   "cell_type": "code",
   "execution_count": 21,
   "metadata": {},
   "outputs": [
    {
     "data": {
      "text/html": [
       "<div>\n",
       "<style scoped>\n",
       "    .dataframe tbody tr th:only-of-type {\n",
       "        vertical-align: middle;\n",
       "    }\n",
       "\n",
       "    .dataframe tbody tr th {\n",
       "        vertical-align: top;\n",
       "    }\n",
       "\n",
       "    .dataframe thead th {\n",
       "        text-align: right;\n",
       "    }\n",
       "</style>\n",
       "<table border=\"1\" class=\"dataframe\">\n",
       "  <thead>\n",
       "    <tr style=\"text-align: right;\">\n",
       "      <th></th>\n",
       "      <th>24-Hour Passes Purchased (midnight to 11:59 pm)</th>\n",
       "      <th>Week_Day</th>\n",
       "    </tr>\n",
       "    <tr>\n",
       "      <th>Date</th>\n",
       "      <th></th>\n",
       "      <th></th>\n",
       "    </tr>\n",
       "  </thead>\n",
       "  <tbody>\n",
       "    <tr>\n",
       "      <th>2018-04-01</th>\n",
       "      <td>2363</td>\n",
       "      <td>Sun</td>\n",
       "    </tr>\n",
       "    <tr>\n",
       "      <th>2018-04-02</th>\n",
       "      <td>297</td>\n",
       "      <td>Mon</td>\n",
       "    </tr>\n",
       "    <tr>\n",
       "      <th>2018-04-03</th>\n",
       "      <td>189</td>\n",
       "      <td>Tue</td>\n",
       "    </tr>\n",
       "    <tr>\n",
       "      <th>2018-04-04</th>\n",
       "      <td>611</td>\n",
       "      <td>Wed</td>\n",
       "    </tr>\n",
       "    <tr>\n",
       "      <th>2018-04-05</th>\n",
       "      <td>972</td>\n",
       "      <td>Thu</td>\n",
       "    </tr>\n",
       "  </tbody>\n",
       "</table>\n",
       "</div>"
      ],
      "text/plain": [
       "            24-Hour Passes Purchased (midnight to 11:59 pm) Week_Day\n",
       "Date                                                                \n",
       "2018-04-01                                             2363      Sun\n",
       "2018-04-02                                              297      Mon\n",
       "2018-04-03                                              189      Tue\n",
       "2018-04-04                                              611      Wed\n",
       "2018-04-05                                              972      Thu"
      ]
     },
     "execution_count": 21,
     "metadata": {},
     "output_type": "execute_result"
    }
   ],
   "source": [
    "df_updated.head()"
   ]
  },
  {
   "cell_type": "code",
   "execution_count": 22,
   "metadata": {},
   "outputs": [
    {
     "data": {
      "text/html": [
       "<div>\n",
       "<style scoped>\n",
       "    .dataframe tbody tr th:only-of-type {\n",
       "        vertical-align: middle;\n",
       "    }\n",
       "\n",
       "    .dataframe tbody tr th {\n",
       "        vertical-align: top;\n",
       "    }\n",
       "\n",
       "    .dataframe thead th {\n",
       "        text-align: right;\n",
       "    }\n",
       "</style>\n",
       "<table border=\"1\" class=\"dataframe\">\n",
       "  <thead>\n",
       "    <tr style=\"text-align: right;\">\n",
       "      <th></th>\n",
       "      <th>24-Hour Passes Purchased (midnight to 11:59 pm)</th>\n",
       "    </tr>\n",
       "    <tr>\n",
       "      <th>Date</th>\n",
       "      <th></th>\n",
       "    </tr>\n",
       "  </thead>\n",
       "  <tbody>\n",
       "    <tr>\n",
       "      <th>2018-04-01</th>\n",
       "      <td>2363.000000</td>\n",
       "    </tr>\n",
       "    <tr>\n",
       "      <th>2018-04-08</th>\n",
       "      <td>845.571429</td>\n",
       "    </tr>\n",
       "    <tr>\n",
       "      <th>2018-04-15</th>\n",
       "      <td>2059.142857</td>\n",
       "    </tr>\n",
       "    <tr>\n",
       "      <th>2018-04-22</th>\n",
       "      <td>1746.571429</td>\n",
       "    </tr>\n",
       "    <tr>\n",
       "      <th>2018-04-29</th>\n",
       "      <td>2433.142857</td>\n",
       "    </tr>\n",
       "  </tbody>\n",
       "</table>\n",
       "</div>"
      ],
      "text/plain": [
       "            24-Hour Passes Purchased (midnight to 11:59 pm)\n",
       "Date                                                       \n",
       "2018-04-01                                      2363.000000\n",
       "2018-04-08                                       845.571429\n",
       "2018-04-15                                      2059.142857\n",
       "2018-04-22                                      1746.571429\n",
       "2018-04-29                                      2433.142857"
      ]
     },
     "execution_count": 22,
     "metadata": {},
     "output_type": "execute_result"
    }
   ],
   "source": [
    "# Resample data to a weekly mean time series\n",
    "\n",
    "df_weekly_mean = pd.DataFrame(df_updated['24-Hour Passes Purchased (midnight to 11:59 pm)'].resample('W').mean())\n",
    "df_weekly_mean.head()"
   ]
  },
  {
   "cell_type": "code",
   "execution_count": 23,
   "metadata": {},
   "outputs": [
    {
     "data": {
      "text/plain": [
       "Text(0.5, 1.0, 'Pass Purchase Frequency Time Series')"
      ]
     },
     "execution_count": 23,
     "metadata": {},
     "output_type": "execute_result"
    },
    {
     "data": {
      "image/png": "[encoded data removed]",
      "text/plain": [
       "<Figure size 1440x720 with 1 Axes>"
      ]
     },
     "metadata": {
      "needs_background": "light"
     },
     "output_type": "display_data"
    }
   ],
   "source": [
    "start, end = '2018-04-01', '2018-06-30'\n",
    "fig, ax = plt.subplots(figsize=(20, 10))\n",
    "ax.plot(df_updated.loc[start:end, '24-Hour Passes Purchased (midnight to 11:59 pm)'], marker='.', linestyle='-', linewidth=0.5, label='Daily')\n",
    "ax.plot(df_weekly_mean.loc[start:end, '24-Hour Passes Purchased (midnight to 11:59 pm)'], marker='o', markersize=8, linestyle='-', label='Weekly Mean Resample')\n",
    "ax.legend()\n",
    "plt.xlabel('Date', fontsize=13)\n",
    "plt.ylabel('Pass Purchase Frequency', fontsize=13)\n",
    "plt.title('Pass Purchase Frequency Time Series', fontsize=17)"
   ]
  },
  {
   "cell_type": "code",
   "execution_count": 25,
   "metadata": {},
   "outputs": [],
   "source": [
    "df_grouped = pd.DataFrame(df.groupby('Week_Day')['24-Hour Passes Purchased (midnight to 11:59 pm)'].mean())\n",
    "df_grouped.rename(index = {0:'Mon', 1:'Tue', 2:'Wed', 3:'Thu', 4:'Fri', 5:'Sat', 6:'Sun'}, inplace=True)"
   ]
  },
  {
   "cell_type": "code",
   "execution_count": 26,
   "metadata": {},
   "outputs": [
    {
     "data": {
      "text/html": [
       "<div>\n",
       "<style scoped>\n",
       "    .dataframe tbody tr th:only-of-type {\n",
       "        vertical-align: middle;\n",
       "    }\n",
       "\n",
       "    .dataframe tbody tr th {\n",
       "        vertical-align: top;\n",
       "    }\n",
       "\n",
       "    .dataframe thead th {\n",
       "        text-align: right;\n",
       "    }\n",
       "</style>\n",
       "<table border=\"1\" class=\"dataframe\">\n",
       "  <thead>\n",
       "    <tr style=\"text-align: right;\">\n",
       "      <th></th>\n",
       "      <th>24-Hour Passes Purchased (midnight to 11:59 pm)</th>\n",
       "    </tr>\n",
       "    <tr>\n",
       "      <th>Week_Day</th>\n",
       "      <th></th>\n",
       "    </tr>\n",
       "  </thead>\n",
       "  <tbody>\n",
       "    <tr>\n",
       "      <th>Mon</th>\n",
       "      <td>2282.307692</td>\n",
       "    </tr>\n",
       "    <tr>\n",
       "      <th>Tue</th>\n",
       "      <td>2092.615385</td>\n",
       "    </tr>\n",
       "    <tr>\n",
       "      <th>Wed</th>\n",
       "      <td>1946.769231</td>\n",
       "    </tr>\n",
       "    <tr>\n",
       "      <th>Thu</th>\n",
       "      <td>2164.384615</td>\n",
       "    </tr>\n",
       "    <tr>\n",
       "      <th>Fri</th>\n",
       "      <td>3051.846154</td>\n",
       "    </tr>\n",
       "  </tbody>\n",
       "</table>\n",
       "</div>"
      ],
      "text/plain": [
       "          24-Hour Passes Purchased (midnight to 11:59 pm)\n",
       "Week_Day                                                 \n",
       "Mon                                           2282.307692\n",
       "Tue                                           2092.615385\n",
       "Wed                                           1946.769231\n",
       "Thu                                           2164.384615\n",
       "Fri                                           3051.846154"
      ]
     },
     "execution_count": 26,
     "metadata": {},
     "output_type": "execute_result"
    }
   ],
   "source": [
    "df_grouped.head()"
   ]
  },
  {
   "cell_type": "code",
   "execution_count": 27,
   "metadata": {},
   "outputs": [
    {
     "data": {
      "text/plain": [
       "Text(0.5, 1.0, 'Weekly Pass Purchase Frequency')"
      ]
     },
     "execution_count": 27,
     "metadata": {},
     "output_type": "execute_result"
    },
    {
     "data": {
      "image/png": "[encoded data removed]",
      "text/plain": [
       "<Figure size 1152x576 with 1 Axes>"
      ]
     },
     "metadata": {
      "needs_background": "light"
     },
     "output_type": "display_data"
    }
   ],
   "source": [
    "df_grouped.plot(kind='bar', figsize=(16,8))\n",
    "plt.xlabel('Day of the Week', fontsize=13)\n",
    "plt.xticks(fontsize=14)\n",
    "plt.ylabel('Mean Pass Purchase Frequency', fontsize=13)\n",
    "plt.title('Weekly Pass Purchase Frequency', fontsize=17)"
   ]
  },
  {
   "cell_type": "code",
   "execution_count": 28,
   "metadata": {},
   "outputs": [
    {
     "data": {
      "text/plain": [
       "Date\n",
       "2018-04-01    2363\n",
       "2018-04-07    1661\n",
       "2018-04-08    1271\n",
       "2018-04-14    7643\n",
       "2018-04-15     525\n",
       "Name: 24-Hour Passes Purchased (midnight to 11:59 pm), dtype: int64"
      ]
     },
     "execution_count": 28,
     "metadata": {},
     "output_type": "execute_result"
    }
   ],
   "source": [
    "# Filter Data\n",
    "weekend = df_updated[(df_updated['Week_Day'] == 'Sat') | (df_updated['Week_Day'] == 'Sun')]['24-Hour Passes Purchased (midnight to 11:59 pm)']\n",
    "weekend.head()"
   ]
  },
  {
   "cell_type": "code",
   "execution_count": 29,
   "metadata": {},
   "outputs": [],
   "source": [
    "weekday = df_updated[(df_updated['Week_Day'] == 'Mon') | (df_updated['Week_Day'] == 'Tue') | (df_updated['Week_Day'] == 'Wed') | \n",
    "        (df_updated['Week_Day'] == 'Thu') | (df_updated['Week_Day'] == 'Fri')]['24-Hour Passes Purchased (midnight to 11:59 pm)']"
   ]
  },
  {
   "cell_type": "code",
   "execution_count": 30,
   "metadata": {},
   "outputs": [
    {
     "data": {
      "text/plain": [
       "Date\n",
       "2018-04-02    297\n",
       "2018-04-03    189\n",
       "2018-04-04    611\n",
       "2018-04-05    972\n",
       "2018-04-06    918\n",
       "Name: 24-Hour Passes Purchased (midnight to 11:59 pm), dtype: int64"
      ]
     },
     "execution_count": 30,
     "metadata": {},
     "output_type": "execute_result"
    }
   ],
   "source": [
    "weekday.head()"
   ]
  },
  {
   "cell_type": "code",
   "execution_count": 31,
   "metadata": {},
   "outputs": [
    {
     "data": {
      "text/plain": [
       "count      26.000000\n",
       "mean     4112.461538\n",
       "std      2181.206331\n",
       "min       525.000000\n",
       "25%      2261.000000\n",
       "50%      4032.000000\n",
       "75%      5836.500000\n",
       "max      7643.000000\n",
       "Name: 24-Hour Passes Purchased (midnight to 11:59 pm), dtype: float64"
      ]
     },
     "execution_count": 31,
     "metadata": {},
     "output_type": "execute_result"
    }
   ],
   "source": [
    "weekend.describe()"
   ]
  },
  {
   "cell_type": "code",
   "execution_count": 32,
   "metadata": {},
   "outputs": [
    {
     "data": {
      "text/plain": [
       "count      65.000000\n",
       "mean     2307.584615\n",
       "std      1227.832247\n",
       "min       189.000000\n",
       "25%      1090.000000\n",
       "50%      2578.000000\n",
       "75%      3155.000000\n",
       "max      5148.000000\n",
       "Name: 24-Hour Passes Purchased (midnight to 11:59 pm), dtype: float64"
      ]
     },
     "execution_count": 32,
     "metadata": {},
     "output_type": "execute_result"
    }
   ],
   "source": [
    "weekday.describe()"
   ]
  },
  {
   "cell_type": "markdown",
   "metadata": {},
   "source": [
    "### T-test Analysis"
   ]
  },
  {
   "cell_type": "code",
   "execution_count": 33,
   "metadata": {},
   "outputs": [
    {
     "data": {
      "text/plain": [
       "Ttest_indResult(statistic=3.9748791093455087, pvalue=0.000382935963275139)"
      ]
     },
     "execution_count": 33,
     "metadata": {},
     "output_type": "execute_result"
    }
   ],
   "source": [
    "stats.ttest_ind(weekend, weekday, axis=0, equal_var=False)"
   ]
  },
  {
   "cell_type": "markdown",
   "metadata": {},
   "source": [
    "#### Based on the T-Test analysis results, it is safe to reject the null hypothesis and accept the alternative hypothesis - there are significantly more 24-hour passes sold during the weekend compared to weekdays. "
   ]
  },
  {
   "cell_type": "code",
   "execution_count": 34,
   "metadata": {},
   "outputs": [],
   "source": [
    "import seaborn as sns"
   ]
  },
  {
   "cell_type": "code",
   "execution_count": 36,
   "metadata": {},
   "outputs": [
    {
     "data": {
      "text/plain": [
       "<matplotlib.axes._subplots.AxesSubplot at 0x2580ae36400>"
      ]
     },
     "execution_count": 36,
     "metadata": {},
     "output_type": "execute_result"
    },
    {
     "data": {
      "image/png": "[encoded data removed]",
      "text/plain": [
       "<Figure size 720x360 with 1 Axes>"
      ]
     },
     "metadata": {
      "needs_background": "light"
     },
     "output_type": "display_data"
    }
   ],
   "source": [
    "weekend = pd.DataFrame(weekend)\n",
    "weekend['Day'] = 'Weekend'\n",
    "weekday = pd.DataFrame(weekday)\n",
    "weekday['Day'] = 'Weekday'\n",
    "cdf = pd.concat([weekend, weekday])\n",
    "cdf.head()\n",
    "fig, ax = plt.subplots(figsize=(10, 5))\n",
    "sns.boxplot(x=\"24-Hour Passes Purchased (midnight to 11:59 pm)\", y=\"Day\",data=cdf, palette='rainbow', showmeans=True)"
   ]
  },
  {
   "cell_type": "markdown",
   "metadata": {},
   "source": [
    "### Median number of passes sold is higher for the weekend than it is for weekdays"
   ]
  }
 ],
 "metadata": {
  "kernelspec": {
   "display_name": "Python 3",
   "language": "python",
   "name": "python3"
  },
  "language_info": {
   "codemirror_mode": {
    "name": "ipython",
    "version": 3
   },
   "file_extension": ".py",
   "mimetype": "text/x-python",
   "name": "python",
   "nbconvert_exporter": "python",
   "pygments_lexer": "ipython3",
   "version": "3.7.3"
  }
 },
 "nbformat": 4,
 "nbformat_minor": 2
}
